{
 "cells": [
  {
   "cell_type": "code",
   "execution_count": 34,
   "metadata": {},
   "outputs": [
    {
     "name": "stdout",
     "output_type": "stream",
     "text": [
      "['.\\\\arr411.xlsx', '.\\\\bar.xlsx', '.\\\\pyo.xlsx', '.\\\\radar.xlsx']\n"
     ]
    }
   ],
   "source": [
    "import glob\n",
    "\n",
    "targetPattern1 = \"./*.xlsx\"\n",
    "# targetPattern2 = \"./*.xls\"\n",
    "xlsxs=glob.glob(targetPattern1)\n",
    "# xlss=glob.glob(targetPattern2)\n",
    "# xlsxs=xlsxs+xlss\n",
    "print(xlsxs)"
   ]
  },
  {
   "cell_type": "code",
   "execution_count": 33,
   "metadata": {},
   "outputs": [
    {
     "name": "stdout",
     "output_type": "stream",
     "text": [
      ".\\arr411.xlsx ['arr']\n",
      ".\\bar.xlsx ['Sheet']\n",
      ".\\pyo.xlsx ['Sheet1', 'Sheet2', 'Sheet3']\n",
      ".\\radar.xlsx ['Sheet']\n"
     ]
    },
    {
     "ename": "InvalidFileException",
     "evalue": "openpyxl does not support the old .xls file format, please use xlrd to read this file, or convert it to the more recent .xlsx file format.",
     "output_type": "error",
     "traceback": [
      "\u001b[1;31m---------------------------------------------------------------------------\u001b[0m",
      "\u001b[1;31mInvalidFileException\u001b[0m                      Traceback (most recent call last)",
      "\u001b[1;32m<ipython-input-33-661f5beb0d7f>\u001b[0m in \u001b[0;36m<module>\u001b[1;34m\u001b[0m\n\u001b[0;32m      1\u001b[0m \u001b[1;32mimport\u001b[0m \u001b[0mopenpyxl\u001b[0m\u001b[1;33m\u001b[0m\u001b[1;33m\u001b[0m\u001b[0m\n\u001b[0;32m      2\u001b[0m \u001b[1;32mfor\u001b[0m \u001b[0mi\u001b[0m \u001b[1;32min\u001b[0m \u001b[0mxlsxs\u001b[0m\u001b[1;33m:\u001b[0m\u001b[1;33m\u001b[0m\u001b[1;33m\u001b[0m\u001b[0m\n\u001b[1;32m----> 3\u001b[1;33m     \u001b[0mload_wb\u001b[0m \u001b[1;33m=\u001b[0m \u001b[0mopenpyxl\u001b[0m\u001b[1;33m.\u001b[0m\u001b[0mload_workbook\u001b[0m\u001b[1;33m(\u001b[0m\u001b[0mi\u001b[0m\u001b[1;33m,\u001b[0m \u001b[0mdata_only\u001b[0m\u001b[1;33m=\u001b[0m\u001b[1;32mTrue\u001b[0m\u001b[1;33m)\u001b[0m \u001b[1;31m# data_only=True 를 선택할 경우 수식이 아닌 값을 가져옴\u001b[0m\u001b[1;33m\u001b[0m\u001b[1;33m\u001b[0m\u001b[0m\n\u001b[0m\u001b[0;32m      4\u001b[0m     \u001b[0mprint\u001b[0m \u001b[1;33m(\u001b[0m\u001b[0mi\u001b[0m\u001b[1;33m,\u001b[0m\u001b[0mload_wb\u001b[0m\u001b[1;33m.\u001b[0m\u001b[0msheetnames\u001b[0m\u001b[1;33m)\u001b[0m \u001b[1;31m#문서 내의 시트 이름 보기\u001b[0m\u001b[1;33m\u001b[0m\u001b[1;33m\u001b[0m\u001b[0m\n",
      "\u001b[1;32m~\\anaconda3\\lib\\site-packages\\openpyxl\\reader\\excel.py\u001b[0m in \u001b[0;36mload_workbook\u001b[1;34m(filename, read_only, keep_vba, data_only, keep_links)\u001b[0m\n\u001b[0;32m    311\u001b[0m \u001b[1;33m\u001b[0m\u001b[0m\n\u001b[0;32m    312\u001b[0m     \"\"\"\n\u001b[1;32m--> 313\u001b[1;33m     reader = ExcelReader(filename, read_only, keep_vba,\n\u001b[0m\u001b[0;32m    314\u001b[0m                         data_only, keep_links)\n\u001b[0;32m    315\u001b[0m     \u001b[0mreader\u001b[0m\u001b[1;33m.\u001b[0m\u001b[0mread\u001b[0m\u001b[1;33m(\u001b[0m\u001b[1;33m)\u001b[0m\u001b[1;33m\u001b[0m\u001b[1;33m\u001b[0m\u001b[0m\n",
      "\u001b[1;32m~\\anaconda3\\lib\\site-packages\\openpyxl\\reader\\excel.py\u001b[0m in \u001b[0;36m__init__\u001b[1;34m(self, fn, read_only, keep_vba, data_only, keep_links)\u001b[0m\n\u001b[0;32m    122\u001b[0m     def __init__(self,  fn, read_only=False, keep_vba=KEEP_VBA,\n\u001b[0;32m    123\u001b[0m                   data_only=False, keep_links=True):\n\u001b[1;32m--> 124\u001b[1;33m         \u001b[0mself\u001b[0m\u001b[1;33m.\u001b[0m\u001b[0marchive\u001b[0m \u001b[1;33m=\u001b[0m \u001b[0m_validate_archive\u001b[0m\u001b[1;33m(\u001b[0m\u001b[0mfn\u001b[0m\u001b[1;33m)\u001b[0m\u001b[1;33m\u001b[0m\u001b[1;33m\u001b[0m\u001b[0m\n\u001b[0m\u001b[0;32m    125\u001b[0m         \u001b[0mself\u001b[0m\u001b[1;33m.\u001b[0m\u001b[0mvalid_files\u001b[0m \u001b[1;33m=\u001b[0m \u001b[0mself\u001b[0m\u001b[1;33m.\u001b[0m\u001b[0marchive\u001b[0m\u001b[1;33m.\u001b[0m\u001b[0mnamelist\u001b[0m\u001b[1;33m(\u001b[0m\u001b[1;33m)\u001b[0m\u001b[1;33m\u001b[0m\u001b[1;33m\u001b[0m\u001b[0m\n\u001b[0;32m    126\u001b[0m         \u001b[0mself\u001b[0m\u001b[1;33m.\u001b[0m\u001b[0mread_only\u001b[0m \u001b[1;33m=\u001b[0m \u001b[0mread_only\u001b[0m\u001b[1;33m\u001b[0m\u001b[1;33m\u001b[0m\u001b[0m\n",
      "\u001b[1;32m~\\anaconda3\\lib\\site-packages\\openpyxl\\reader\\excel.py\u001b[0m in \u001b[0;36m_validate_archive\u001b[1;34m(filename)\u001b[0m\n\u001b[0;32m     92\u001b[0m                        \u001b[1;34m'Supported formats are: %s'\u001b[0m\u001b[1;33m)\u001b[0m \u001b[1;33m%\u001b[0m \u001b[1;33m(\u001b[0m\u001b[0mfile_format\u001b[0m\u001b[1;33m,\u001b[0m\u001b[1;33m\u001b[0m\u001b[1;33m\u001b[0m\u001b[0m\n\u001b[0;32m     93\u001b[0m                                                        ','.join(SUPPORTED_FORMATS))\n\u001b[1;32m---> 94\u001b[1;33m             \u001b[1;32mraise\u001b[0m \u001b[0mInvalidFileException\u001b[0m\u001b[1;33m(\u001b[0m\u001b[0mmsg\u001b[0m\u001b[1;33m)\u001b[0m\u001b[1;33m\u001b[0m\u001b[1;33m\u001b[0m\u001b[0m\n\u001b[0m\u001b[0;32m     95\u001b[0m \u001b[1;33m\u001b[0m\u001b[0m\n\u001b[0;32m     96\u001b[0m     \u001b[0marchive\u001b[0m \u001b[1;33m=\u001b[0m \u001b[0mZipFile\u001b[0m\u001b[1;33m(\u001b[0m\u001b[0mfilename\u001b[0m\u001b[1;33m,\u001b[0m \u001b[1;34m'r'\u001b[0m\u001b[1;33m)\u001b[0m\u001b[1;33m\u001b[0m\u001b[1;33m\u001b[0m\u001b[0m\n",
      "\u001b[1;31mInvalidFileException\u001b[0m: openpyxl does not support the old .xls file format, please use xlrd to read this file, or convert it to the more recent .xlsx file format."
     ]
    }
   ],
   "source": [
    "import openpyxl\n",
    "for i in xlsxs:\n",
    "    load_wb = openpyxl.load_workbook(i, data_only=True) # data_only=True 를 선택할 경우 수식이 아닌 값을 가져옴\n",
    "    print (i,load_wb.sheetnames) #문서 내의 시트 이름 보기"
   ]
  },
  {
   "cell_type": "markdown",
   "metadata": {},
   "source": [
    ".\\arr411.xlsx ['arr']\n",
    ".\\bar.xlsx ['Sheet']\n",
    ".\\pyo.xlsx ['Sheet1', 'Sheet2', 'Sheet3']\n",
    ".\\radar.xlsx ['Sheet']\n",
    "---------------------------------------------------------------------------\n",
    "InvalidFileException                      Traceback (most recent call last)\n",
    "<ipython-input-33-661f5beb0d7f> in <module>\n",
    "      1 import openpyxl\n",
    "      2 for i in xlsxs:\n",
    "----> 3     load_wb = openpyxl.load_workbook(i, data_only=True) # data_only=True 를 선택할 경우 수식이 아닌 값을 가져옴\n",
    "      4     print (i,load_wb.sheetnames) #문서 내의 시트 이름 보기\n",
    "\n",
    "~\\anaconda3\\lib\\site-packages\\openpyxl\\reader\\excel.py in load_workbook(filename, read_only, keep_vba, data_only, keep_links)\n",
    "    311 \n",
    "    312     \"\"\"\n",
    "--> 313     reader = ExcelReader(filename, read_only, keep_vba,\n",
    "    314                         data_only, keep_links)\n",
    "    315     reader.read()\n",
    "\n",
    "~\\anaconda3\\lib\\site-packages\\openpyxl\\reader\\excel.py in __init__(self, fn, read_only, keep_vba, data_only, keep_links)\n",
    "    122     def __init__(self,  fn, read_only=False, keep_vba=KEEP_VBA,\n",
    "    123                   data_only=False, keep_links=True):\n",
    "--> 124         self.archive = _validate_archive(fn)\n",
    "    125         self.valid_files = self.archive.namelist()\n",
    "    126         self.read_only = read_only\n",
    "\n",
    "~\\anaconda3\\lib\\site-packages\\openpyxl\\reader\\excel.py in _validate_archive(filename)\n",
    "     92                        'Supported formats are: %s') % (file_format,\n",
    "     93                                                        ','.join(SUPPORTED_FORMATS))\n",
    "---> 94             raise InvalidFileException(msg)\n",
    "     95 \n",
    "     96     archive = ZipFile(filename, 'r')\n",
    "\n",
    "InvalidFileException: openpyxl does not support the old .xls file format, please use xlrd to read this file, or convert it to the more recent .xlsx file format."
   ]
  },
  {
   "cell_type": "code",
   "execution_count": 35,
   "metadata": {},
   "outputs": [
    {
     "name": "stdout",
     "output_type": "stream",
     "text": [
      ".\\arr411.xlsx ['arr']\n",
      ".\\bar.xlsx ['Sheet']\n",
      ".\\pyo.xlsx ['Sheet1', 'Sheet2', 'Sheet3']\n",
      ".\\radar.xlsx ['Sheet']\n"
     ]
    }
   ],
   "source": [
    "import openpyxl\n",
    "for i in xlsxs:\n",
    "    load_wb = openpyxl.load_workbook(i, data_only=True) # data_only=True 를 선택할 경우 수식이 아닌 값을 가져옴\n",
    "    print (i,load_wb.sheetnames) #문서 내의 시트 이름 보기"
   ]
  },
  {
   "cell_type": "code",
   "execution_count": null,
   "metadata": {},
   "outputs": [],
   "source": []
  }
 ],
 "metadata": {
  "kernelspec": {
   "display_name": "Python 3",
   "language": "python",
   "name": "python3"
  },
  "language_info": {
   "codemirror_mode": {
    "name": "ipython",
    "version": 3
   },
   "file_extension": ".py",
   "mimetype": "text/x-python",
   "name": "python",
   "nbconvert_exporter": "python",
   "pygments_lexer": "ipython3",
   "version": "3.8.3"
  }
 },
 "nbformat": 4,
 "nbformat_minor": 4
}
