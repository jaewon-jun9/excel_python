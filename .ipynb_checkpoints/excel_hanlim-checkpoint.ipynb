{
 "cells": [
  {
   "cell_type": "code",
   "execution_count": 1,
   "metadata": {},
   "outputs": [],
   "source": [
    "import openpyxl"
   ]
  },
  {
   "cell_type": "code",
   "execution_count": 2,
   "metadata": {},
   "outputs": [],
   "source": [
    "source=\"../test.xlsx\"\n",
    "name=\"한림제약\"\n",
    "output=\"../hanlim4.xlsx\""
   ]
  },
  {
   "cell_type": "code",
   "execution_count": 3,
   "metadata": {},
   "outputs": [],
   "source": [
    "load_wb = openpyxl.load_workbook(source, data_only=True)\n",
    "load_ws = load_wb['Sheet1']\n",
    "all_values=[]\n",
    "for row in load_ws.rows:\n",
    "    row_value=[]\n",
    "    for cell in row:        \n",
    "        row_value.append(cell.value)\n",
    "    all_values.append(row_value)\n",
    "hanlim=[]\n",
    "hanlim.append(all_values[2])\n",
    "count_row=0\n",
    "for row in all_values[3:]:\n",
    "    if name in row:\n",
    "        count_row=3\n",
    "    if count_row > 0:\n",
    "        hanlim.append(row)\n",
    "        count_row=count_row-1\n",
    "wb = openpyxl.Workbook() \n",
    "sheet1 = wb.active\n",
    "sheet1.title = 'Sheet1'\n",
    "for row_num,row in enumerate(hanlim):\n",
    "    for col_num,cell_val in enumerate(row):\n",
    "        sheet1.cell(row=row_num+1, column=col_num+1).value = cell_val\n",
    "wb.save(filename=output) "
   ]
  }
 ],
 "metadata": {
  "kernelspec": {
   "display_name": "Python 3",
   "language": "python",
   "name": "python3"
  },
  "language_info": {
   "codemirror_mode": {
    "name": "ipython",
    "version": 3
   },
   "file_extension": ".py",
   "mimetype": "text/x-python",
   "name": "python",
   "nbconvert_exporter": "python",
   "pygments_lexer": "ipython3",
   "version": "3.7.4"
  }
 },
 "nbformat": 4,
 "nbformat_minor": 4
}
