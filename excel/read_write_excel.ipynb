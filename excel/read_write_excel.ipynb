{
 "cells": [
  {
   "cell_type": "markdown",
   "metadata": {},
   "source": [
    "## 파이썬에서 엑셀 읽고 쓰기 기본"
   ]
  },
  {
   "cell_type": "code",
   "execution_count": 1,
   "metadata": {},
   "outputs": [],
   "source": [
    "import openpyxl"
   ]
  },
  {
   "cell_type": "code",
   "execution_count": 2,
   "metadata": {},
   "outputs": [],
   "source": [
    "source=\"../test.xlsx\" #읽을 파일 지정"
   ]
  },
  {
   "cell_type": "code",
   "execution_count": 3,
   "metadata": {},
   "outputs": [
    {
     "name": "stdout",
     "output_type": "stream",
     "text": [
      "['Sheet1', 'Sheet2']\n"
     ]
    }
   ],
   "source": [
    "load_wb = openpyxl.load_workbook(source, data_only=True) # data_only=True 를 선택할 경우 수식이 아닌 값을 가져옴\n",
    "print (load_wb.sheetnames) #문서 내의 시트 이름 보기"
   ]
  },
  {
   "cell_type": "markdown",
   "metadata": {},
   "source": [
    "'Sheet1' 의 내용을 for문 이용하여 리스트에 저장"
   ]
  },
  {
   "cell_type": "code",
   "execution_count": 4,
   "metadata": {},
   "outputs": [],
   "source": [
    "load_ws = load_wb['Sheet1'] #'Sheet1' 에서 작업함\n",
    "all_values=[] # 'Sheet1' 의 내용을 답을 리스트\n",
    "for row in load_ws.rows: #row 단위로 읽기\n",
    "    row_value=[] #row 마다 셀의 값을 저장\n",
    "    for cell in row: #row 마다 cell 단위로 데이터 읽기\n",
    "        row_value.append(cell.value) #row_value에 cell의 내용을 넣어주어 row를 완성\n",
    "    all_values.append(row_value) #row를 전체 리스트에 추가"
   ]
  },
  {
   "cell_type": "code",
   "execution_count": 5,
   "metadata": {},
   "outputs": [
    {
     "data": {
      "text/plain": [
       "[[None, None, None, None, '사명'],\n",
       " [None, None, None, None, None],\n",
       " [None, None, None, None, None],\n",
       " [None, None, None, None, None],\n",
       " [None, None, None, None, None],\n",
       " [None, None, None, None, '한림제약'],\n",
       " [None, None, None, None, 1],\n",
       " [None, None, None, None, 2],\n",
       " [None, None, None, None, '다른회사'],\n",
       " [None, None, None, None, 1],\n",
       " [None, None, None, None, 2],\n",
       " [None, None, None, None, '한림제약'],\n",
       " [None, None, None, None, 1],\n",
       " [None, None, None, None, 2]]"
      ]
     },
     "execution_count": 5,
     "metadata": {},
     "output_type": "execute_result"
    }
   ],
   "source": [
    "all_values #내용 확인"
   ]
  },
  {
   "cell_type": "markdown",
   "metadata": {},
   "source": [
    "all_values 에 담긴 내용을 파일로 저장"
   ]
  },
  {
   "cell_type": "code",
   "execution_count": 6,
   "metadata": {},
   "outputs": [],
   "source": [
    "wb = openpyxl.Workbook() #워크북 생성\n",
    "sheet1 = wb.active #활성시트를 만들어서 sheet1에 저장\n",
    "sheet1.title = 'Sheet1' #시트의 제목 지정\n",
    "# all_values 의 내용을 for문을 통해 기입\n",
    "for row_num,row in enumerate(all_values): #row 번호와 함께 row를 순차적으로 가져옴\n",
    "    for col_num,cell_val in enumerate(row): #row 마다 cell 번호와 cell 내용을 함께 가져옴\n",
    "        sheet1.cell(row=row_num+1, column=col_num+1).value = cell_val #행번호와 열번호를 지정하여 값을 기록, 엑셀은 1부터 시작\n",
    "wb.save(filename=\"../test2.xlsx\") #결과물 저장"
   ]
  }
 ],
 "metadata": {
  "kernelspec": {
   "display_name": "Python 3",
   "language": "python",
   "name": "python3"
  },
  "language_info": {
   "codemirror_mode": {
    "name": "ipython",
    "version": 3
   },
   "file_extension": ".py",
   "mimetype": "text/x-python",
   "name": "python",
   "nbconvert_exporter": "python",
   "pygments_lexer": "ipython3",
   "version": "3.8.3"
  }
 },
 "nbformat": 4,
 "nbformat_minor": 2
}
