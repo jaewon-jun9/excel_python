{
 "cells": [
  {
   "cell_type": "markdown",
   "metadata": {},
   "source": [
    "a12 ax20 과 같은 형태의 엑셀 주소를 받아서 숫자로 변경하는 코드  \n",
    "시작 셀의 좌표와 마지막 셀의 좌표를 이용해서 2차원공간의 셀 정보를 가져오기 위함"
   ]
  },
  {
   "cell_type": "code",
   "execution_count": 259,
   "metadata": {},
   "outputs": [],
   "source": [
    "def cellRange(startCell,endCell):\n",
    "    startRow=excelNum(list(filter(str.isalpha,startCell)))\n",
    "    startCol=strNum(list(filter(str.isdigit,startCell)))\n",
    "    endRow=excelNum(list(filter(str.isalpha,endCell)))\n",
    "    endCol=strNum(list(filter(str.isdigit,endCell)))\n",
    "    if startRow>endRow or startCol>endCol:\n",
    "        print(\"error range\")\n",
    "        return \"error range\"\n",
    "    else:\n",
    "        return ([startRow,startCol,endRow,endCol])       "
   ]
  },
  {
   "cell_type": "markdown",
   "metadata": {},
   "source": [
    "for구문 이용하여 알파벳과 숫자를 좌표값으로 변경"
   ]
  },
  {
   "cell_type": "code",
   "execution_count": 258,
   "metadata": {},
   "outputs": [],
   "source": [
    "def colNum(string):\n",
    "    j=1\n",
    "    num=0\n",
    "    for i in string:\n",
    "        num=num+(ord(i.upper())-64)*(26**(len(string)-j))\n",
    "        j=j+1\n",
    "    return num\n",
    "def rowNum(string):\n",
    "    j=1\n",
    "    num=0\n",
    "    for i in string:\n",
    "        num=num+int(i)*10**(len(string)-j)\n",
    "        j=j+1\n",
    "    return num"
   ]
  },
  {
   "cell_type": "markdown",
   "metadata": {},
   "source": [
    "while 문으로 바꿈"
   ]
  },
  {
   "cell_type": "code",
   "execution_count": 263,
   "metadata": {},
   "outputs": [],
   "source": [
    "def colNum(string):\n",
    "    num=0\n",
    "    while len(string)>0:\n",
    "        num=num+(ord(string.pop(0).upper())-64)*(26**(len(string)))\n",
    "    return num\n",
    "def rowNum(string):\n",
    "    num=0\n",
    "    while len(string)>0:\n",
    "        num=num+int(string.pop(0))*10**(len(string))\n",
    "    return num"
   ]
  },
  {
   "cell_type": "markdown",
   "metadata": {},
   "source": [
    "다시 for 으로 하는 다른 방법"
   ]
  },
  {
   "cell_type": "code",
   "execution_count": 267,
   "metadata": {},
   "outputs": [],
   "source": [
    "def colNum(string):\n",
    "    num=0\n",
    "    for i,j in enumerate(string):\n",
    "        num=num+(ord(j.upper())-64)*(26**(len(string)-i-1))\n",
    "    return num\n",
    "def rowNum(string):\n",
    "    num=0\n",
    "    for i,j in enumerate(string):\n",
    "        num=num+int(j)*10**(len(string)-i-1)\n",
    "    return num"
   ]
  },
  {
   "cell_type": "markdown",
   "metadata": {},
   "source": [
    "함수 하나로 처리"
   ]
  },
  {
   "cell_type": "code",
   "execution_count": 278,
   "metadata": {},
   "outputs": [],
   "source": [
    "def excelNum(string):\n",
    "    num=0\n",
    "    for i,j in enumerate(string):\n",
    "        if ord(j)>57:\n",
    "            num=num+(ord(j.upper())-64)*(26**(len(string)-i-1))\n",
    "        else:\n",
    "            num=num+int(j)*10**(len(string)-i-1)\n",
    "    return num"
   ]
  },
  {
   "cell_type": "code",
   "execution_count": 282,
   "metadata": {},
   "outputs": [],
   "source": [
    "def cellRange(startCell,endCell):\n",
    "    start=excelNum(startCell)\n",
    "    end=excelNum(endCell)\n",
    "    if start[0]>end[0] or start[1]>end[1]:\n",
    "        print(\"error range\")\n",
    "        return \"error range\"\n",
    "    else:\n",
    "        return ([startRow,startCol,endRow,endCol])       "
   ]
  },
  {
   "cell_type": "code",
   "execution_count": 280,
   "metadata": {},
   "outputs": [
    {
     "name": "stdout",
     "output_type": "stream",
     "text": [
      "[76, 11, 702, 100]\n"
     ]
    }
   ],
   "source": [
    "print(cellRange(\"bx11\",\"zz100\"))"
   ]
  },
  {
   "cell_type": "markdown",
   "metadata": {},
   "source": [
    "두 함수의 역할을 조정"
   ]
  },
  {
   "cell_type": "code",
   "execution_count": 333,
   "metadata": {},
   "outputs": [],
   "source": [
    "def excelNum(string):\n",
    "    num=0\n",
    "    for i,j in enumerate(string):\n",
    "        if ord(j)>57:\n",
    "            num=num+(ord(j.upper())-64)*(26**(len(string)-i-1))\n",
    "        else:\n",
    "            num=num+int(j)*10**(len(string)-i-1)\n",
    "    return num\n",
    "def excelString(string):\n",
    "    row=excelNum(list(filter(str.isalpha,string)))\n",
    "    col=excelNum(list(filter(str.isdigit,string)))\n",
    "    return ([row,col])\n",
    "def cellRange(startCell,endCell):\n",
    "    start=excelString(startCell)\n",
    "    end=excelString(endCell)\n",
    "    if start[0]>end[0] or start[1]>end[1]:\n",
    "        print(\"error range\")\n",
    "        return \"error range\"\n",
    "    else:\n",
    "        return (start+end)"
   ]
  },
  {
   "cell_type": "code",
   "execution_count": 334,
   "metadata": {},
   "outputs": [
    {
     "name": "stdout",
     "output_type": "stream",
     "text": [
      "error range\n",
      "error range\n"
     ]
    }
   ],
   "source": [
    "print(cellRange(\"x11\",\"az1\"))"
   ]
  },
  {
   "cell_type": "code",
   "execution_count": 335,
   "metadata": {},
   "outputs": [
    {
     "name": "stdout",
     "output_type": "stream",
     "text": [
      "[27, 1, 702, 12010]\n"
     ]
    }
   ],
   "source": [
    "print(cellRange(\"AA1\",\"ZZ12010\"))"
   ]
  },
  {
   "cell_type": "code",
   "execution_count": 272,
   "metadata": {},
   "outputs": [
    {
     "data": {
      "text/plain": [
       "48"
      ]
     },
     "execution_count": 272,
     "metadata": {},
     "output_type": "execute_result"
    }
   ],
   "source": [
    "ord(\"0\")"
   ]
  },
  {
   "cell_type": "code",
   "execution_count": 271,
   "metadata": {},
   "outputs": [
    {
     "data": {
      "text/plain": [
       "12609"
      ]
     },
     "execution_count": 271,
     "metadata": {},
     "output_type": "execute_result"
    }
   ],
   "source": [
    "ord(\"ㅁ\")"
   ]
  },
  {
   "cell_type": "code",
   "execution_count": 273,
   "metadata": {},
   "outputs": [
    {
     "data": {
      "text/plain": [
       "57"
      ]
     },
     "execution_count": 273,
     "metadata": {},
     "output_type": "execute_result"
    }
   ],
   "source": [
    "ord(\"9\")"
   ]
  },
  {
   "cell_type": "code",
   "execution_count": 276,
   "metadata": {},
   "outputs": [
    {
     "data": {
      "text/plain": [
       "65"
      ]
     },
     "execution_count": 276,
     "metadata": {},
     "output_type": "execute_result"
    }
   ],
   "source": [
    "ord(\"A\")"
   ]
  },
  {
   "cell_type": "code",
   "execution_count": 277,
   "metadata": {},
   "outputs": [
    {
     "data": {
      "text/plain": [
       "58"
      ]
     },
     "execution_count": 277,
     "metadata": {},
     "output_type": "execute_result"
    }
   ],
   "source": [
    "ord(\":\")"
   ]
  },
  {
   "cell_type": "markdown",
   "metadata": {},
   "source": [
    "숫자로 입력된 주소를 다시 엑셀의 알파벳 주소로 변경"
   ]
  },
  {
   "cell_type": "code",
   "execution_count": 86,
   "metadata": {},
   "outputs": [],
   "source": [
    "def numToExNum(i,j):\n",
    "    col=[]\n",
    "    if i==26:\n",
    "        col.insert(0,\"Z\")\n",
    "    else:        \n",
    "        while i>0:\n",
    "            col.insert(0,chr(i%26+64))\n",
    "            i=i//26\n",
    "    j=str(j)\n",
    "    col.append(j)\n",
    "    excol=''.join(col)\n",
    "    return (excol)"
   ]
  },
  {
   "cell_type": "code",
   "execution_count": 87,
   "metadata": {},
   "outputs": [
    {
     "data": {
      "text/plain": [
       "'AIA100'"
      ]
     },
     "execution_count": 87,
     "metadata": {},
     "output_type": "execute_result"
    }
   ],
   "source": [
    "numToExNum(911,100)"
   ]
  },
  {
   "cell_type": "code",
   "execution_count": 89,
   "metadata": {},
   "outputs": [
    {
     "data": {
      "text/plain": [
       "'Y100'"
      ]
     },
     "execution_count": 89,
     "metadata": {},
     "output_type": "execute_result"
    }
   ],
   "source": [
    "numToExNum(25,100)"
   ]
  },
  {
   "cell_type": "code",
   "execution_count": 93,
   "metadata": {},
   "outputs": [
    {
     "data": {
      "text/plain": [
       "'A100'"
      ]
     },
     "execution_count": 93,
     "metadata": {},
     "output_type": "execute_result"
    }
   ],
   "source": [
    "numToExNum(1,100)"
   ]
  },
  {
   "cell_type": "code",
   "execution_count": null,
   "metadata": {},
   "outputs": [],
   "source": []
  }
 ],
 "metadata": {
  "kernelspec": {
   "display_name": "Python 3",
   "language": "python",
   "name": "python3"
  },
  "language_info": {
   "codemirror_mode": {
    "name": "ipython",
    "version": 3
   },
   "file_extension": ".py",
   "mimetype": "text/x-python",
   "name": "python",
   "nbconvert_exporter": "python",
   "pygments_lexer": "ipython3",
   "version": "3.8.3"
  }
 },
 "nbformat": 4,
 "nbformat_minor": 4
}
