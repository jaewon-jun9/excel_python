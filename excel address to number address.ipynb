{
 "cells": [
  {
   "cell_type": "code",
   "execution_count": 193,
   "metadata": {},
   "outputs": [],
   "source": [
    "def excelNum(string):\n",
    "    j=1\n",
    "    num=0\n",
    "    for i in string:\n",
    "        num=num+(ord(i.upper())-64)*(26**(len(string)-j))\n",
    "        j=j+1\n",
    "    return num\n",
    "def strNum(string):\n",
    "    j=1\n",
    "    num=0\n",
    "    for i in string:\n",
    "        num=num+int(i)*10**(len(string)-j)\n",
    "        j=j+1\n",
    "    return num"
   ]
  },
  {
   "cell_type": "code",
   "execution_count": 194,
   "metadata": {},
   "outputs": [],
   "source": [
    "def cellRange(startCell,endCell):\n",
    "    startRow=excelNum(list(filter(str.isalpha,startCell)))\n",
    "    startCol=strNum(list(filter(str.isdigit,startCell)))\n",
    "    endRow=excelNum(list(filter(str.isalpha,endCell)))\n",
    "    endCol=strNum(list(filter(str.isdigit,endCell)))\n",
    "    return ([startRow,startCol,endRow,endCol])   "
   ]
  },
  {
   "cell_type": "code",
   "execution_count": 200,
   "metadata": {},
   "outputs": [
    {
     "name": "stdout",
     "output_type": "stream",
     "text": [
      "[76, 11, 702, 100]\n"
     ]
    }
   ],
   "source": [
    "print(cellRange(\"bx11\",\"zz100\"))"
   ]
  },
  {
   "cell_type": "code",
   "execution_count": 199,
   "metadata": {},
   "outputs": [
    {
     "name": "stdout",
     "output_type": "stream",
     "text": [
      "[27, 10, 702, 111]\n"
     ]
    }
   ],
   "source": [
    "print(cellRange(\"AA10\",\"ZZ111\"))"
   ]
  },
  {
   "cell_type": "code",
   "execution_count": 202,
   "metadata": {},
   "outputs": [
    {
     "name": "stdout",
     "output_type": "stream",
     "text": [
      "[27, 1, 702, 12010]\n"
     ]
    }
   ],
   "source": [
    "print(cellRange(\"AA1\",\"ZZ12010\"))"
   ]
  },
  {
   "cell_type": "code",
   "execution_count": 234,
   "metadata": {},
   "outputs": [],
   "source": [
    "def excelNum(string):\n",
    "    num=0\n",
    "    while len(string)>0:\n",
    "        num=num+(ord(string.pop(0).upper())-64)*(26**(len(string)))\n",
    "    return num\n",
    "def strNum(string):\n",
    "    num=0\n",
    "    while len(string)>0:\n",
    "        num=num+int(string.pop(0))*10**(len(string))\n",
    "    return num\n",
    "def cellRange(startCell,endCell):\n",
    "    startRow=excelNum(list(filter(str.isalpha,startCell)))\n",
    "    startCol=strNum(list(filter(str.isdigit,startCell)))\n",
    "    endRow=excelNum(list(filter(str.isalpha,endCell)))\n",
    "    endCol=strNum(list(filter(str.isdigit,endCell)))\n",
    "    if startRow>endRow or startCol>endCol:\n",
    "        print(\"error range\")\n",
    "        return \"error range\"\n",
    "    else:\n",
    "        return ([startRow,startCol,endRow,endCol])   "
   ]
  },
  {
   "cell_type": "code",
   "execution_count": 235,
   "metadata": {},
   "outputs": [
    {
     "name": "stdout",
     "output_type": "stream",
     "text": [
      "[27, 1, 702, 12010]\n"
     ]
    }
   ],
   "source": [
    "print(cellRange(\"AA1\",\"ZZ12010\"))"
   ]
  },
  {
   "cell_type": "code",
   "execution_count": 236,
   "metadata": {},
   "outputs": [
    {
     "name": "stdout",
     "output_type": "stream",
     "text": [
      "[76, 11, 702, 100]\n"
     ]
    }
   ],
   "source": [
    "print(cellRange(\"bx11\",\"zz100\"))"
   ]
  },
  {
   "cell_type": "code",
   "execution_count": 237,
   "metadata": {},
   "outputs": [
    {
     "name": "stdout",
     "output_type": "stream",
     "text": [
      "error range\n",
      "error range\n"
     ]
    }
   ],
   "source": [
    "print(cellRange(\"bx11\",\"az100\"))"
   ]
  },
  {
   "cell_type": "code",
   "execution_count": null,
   "metadata": {},
   "outputs": [],
   "source": []
  }
 ],
 "metadata": {
  "kernelspec": {
   "display_name": "Python 3",
   "language": "python",
   "name": "python3"
  },
  "language_info": {
   "codemirror_mode": {
    "name": "ipython",
    "version": 3
   },
   "file_extension": ".py",
   "mimetype": "text/x-python",
   "name": "python",
   "nbconvert_exporter": "python",
   "pygments_lexer": "ipython3",
   "version": "3.8.3"
  }
 },
 "nbformat": 4,
 "nbformat_minor": 4
}
