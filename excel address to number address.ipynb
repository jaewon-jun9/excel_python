{
 "cells": [
  {
   "cell_type": "code",
   "execution_count": 141,
   "metadata": {},
   "outputs": [],
   "source": [
    "def excelNum(string):\n",
    "    j=1\n",
    "    alphas=list(filter(str.isalpha,string))\n",
    "    num=0\n",
    "    for i in alphas:\n",
    "        num=num+(ord(i.upper())-64)*(26**(len(alphas)-j))\n",
    "        j=j+1\n",
    "    return num\n",
    "def strNum(string):\n",
    "    num=0\n",
    "    for i in string:\n",
    "        num=num+int(i)*10**(len(string)-1)\n",
    "    return num"
   ]
  },
  {
   "cell_type": "code",
   "execution_count": 140,
   "metadata": {},
   "outputs": [],
   "source": [
    "def cellRange(startCell,endCell):\n",
    "    startRow=excelNum(list(filter(str.isalpha,startCell)))\n",
    "    startCol=strNum(list(filter(str.isdigit,startCell)))\n",
    "    endRow=excelNum(list(filter(str.isalpha,endCell)))\n",
    "    endCol=strNum(list(filter(str.isdigit,endCell)))\n",
    "    return ([startRow,startCol,endRow,endCol])   "
   ]
  },
  {
   "cell_type": "code",
   "execution_count": 142,
   "metadata": {},
   "outputs": [
    {
     "name": "stdout",
     "output_type": "stream",
     "text": [
      "[76, 10, 702, 100]\n"
     ]
    }
   ],
   "source": [
    "print(cellRange(\"bx10\",\"zz100\"))"
   ]
  },
  {
   "cell_type": "code",
   "execution_count": 143,
   "metadata": {},
   "outputs": [
    {
     "name": "stdout",
     "output_type": "stream",
     "text": [
      "[27, 10, 702, 100]\n"
     ]
    }
   ],
   "source": [
    "print(cellRange(\"AA10\",\"ZZ100\"))"
   ]
  },
  {
   "cell_type": "code",
   "execution_count": 145,
   "metadata": {},
   "outputs": [
    {
     "name": "stdout",
     "output_type": "stream",
     "text": [
      "[703, 1, 18278, 100]\n"
     ]
    }
   ],
   "source": [
    "print(cellRange(\"AAA1\",\"ZZZ100\"))"
   ]
  }
 ],
 "metadata": {
  "kernelspec": {
   "display_name": "Python 3",
   "language": "python",
   "name": "python3"
  },
  "language_info": {
   "codemirror_mode": {
    "name": "ipython",
    "version": 3
   },
   "file_extension": ".py",
   "mimetype": "text/x-python",
   "name": "python",
   "nbconvert_exporter": "python",
   "pygments_lexer": "ipython3",
   "version": "3.8.3"
  }
 },
 "nbformat": 4,
 "nbformat_minor": 4
}
