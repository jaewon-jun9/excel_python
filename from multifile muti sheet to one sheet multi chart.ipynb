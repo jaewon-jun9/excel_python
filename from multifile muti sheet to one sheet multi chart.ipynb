{
 "cells": [
  {
   "cell_type": "code",
   "execution_count": 1,
   "metadata": {},
   "outputs": [
    {
     "name": "stdout",
     "output_type": "stream",
     "text": [
      "['C:/Users/park/Downloads/VE\\\\제안-01상하수01 유량분배 0901.xlsx', 'C:/Users/park/Downloads/VE\\\\제안-02상하수02 생물반응조 유효수심 0901.xlsx', 'C:/Users/park/Downloads/VE\\\\제안-03상하수03 침전지 0919 (민감도 수정).xlsx', 'C:/Users/park/Downloads/VE\\\\제안-04상하수04 찌꺼기 반송라인 0901.xlsx', 'C:/Users/park/Downloads/VE\\\\제안-05상하수05 총인처리시설 0901.xlsx', 'C:/Users/park/Downloads/VE\\\\제안-06토목01 맨홀뚜껑 0902.xlsx', 'C:/Users/park/Downloads/VE\\\\제안-07토목02 기능성 시멘트 적용 0902.xlsx', 'C:/Users/park/Downloads/VE\\\\제안-08토목03 부력방지용 앵커 0904.xlsx', 'C:/Users/park/Downloads/VE\\\\제안-09토목04 굴착공법 및 가시설계획 0917.xlsx', 'C:/Users/park/Downloads/VE\\\\제안-10토목05 외기노출부 방수공사 0902.xlsx', 'C:/Users/park/Downloads/VE\\\\제안-11토목06 운영실 휴게가든 0904.xlsx', 'C:/Users/park/Downloads/VE\\\\제안-12토목07 엘리베이터, 방풍실 계획 0902.xlsx', 'C:/Users/park/Downloads/VE\\\\제안-13기계01 스크린 0907.xlsx', 'C:/Users/park/Downloads/VE\\\\제안-14기계02 유량조정조 이중수문 0907.xlsx', 'C:/Users/park/Downloads/VE\\\\제안-15기계03 유입펌프 구성 0907.xlsx', 'C:/Users/park/Downloads/VE\\\\제안-16기계04 송풍기실 위치 0915.xlsx', 'C:/Users/park/Downloads/VE\\\\제안-17기계05 호기조 산기장치 0915.xlsx', 'C:/Users/park/Downloads/VE\\\\제안-18기계06 분리막 미세협착물 세척 및 이송 0902.xlsx', 'C:/Users/park/Downloads/VE\\\\제안-19기계07 처리수 이송펌프 0907.xlsx', 'C:/Users/park/Downloads/VE\\\\제안-20기계08 농축기 0907.xlsx', 'C:/Users/park/Downloads/VE\\\\제안-21기계09 탈수 0902.xlsx', 'C:/Users/park/Downloads/VE\\\\제안-22기계10 탈취기 0902.xlsx', 'C:/Users/park/Downloads/VE\\\\제안-23기계11 탈취기실 위치 0902.xlsx', 'C:/Users/park/Downloads/VE\\\\제안-24기계12 재이용계획 0907.xlsx', 'C:/Users/park/Downloads/VE\\\\제안-25기계13 방류펌프 용량 0907.xlsx', 'C:/Users/park/Downloads/VE\\\\제안-26기계14 급기팬룸 설치 0902.xlsx', 'C:/Users/park/Downloads/VE\\\\제안-27기계15 별도 풍도설치 0902.xlsx', 'C:/Users/park/Downloads/VE\\\\제안-28기계16 운영실 전열교환기 설치 0903.xlsx', 'C:/Users/park/Downloads/VE\\\\제안-29전기01 VCB반 설치 0902.xlsx', 'C:/Users/park/Downloads/VE\\\\제안-30전기02 케이블 0902.xlsx', 'C:/Users/park/Downloads/VE\\\\제안-31전기03 케이블 트레이 0904.xlsx', 'C:/Users/park/Downloads/VE\\\\제안-32전기04 역률 개선 0904.xlsx', 'C:/Users/park/Downloads/VE\\\\제안-33전기05 모터보호 계전기 0904.xlsx', 'C:/Users/park/Downloads/VE\\\\제안-34전기06 시설물 관리시스템 0902.xlsx']\n"
     ]
    }
   ],
   "source": [
    "#복수의 파일에서 같은 위치의 워크시트에서 같은 셀 주소에 있는 정보들을 보기\n",
    "setFolder='C:/Users/park/Downloads/VE/'\n",
    "# 하위폴더를 포함하여 모든 엑셀 파일을 리스트에 담기\n",
    "import openpyxl\n",
    "import glob\n",
    "import pandas as pd\n",
    "import myexcel as exr \n",
    "from openpyxl.chart import (\n",
    "     RadarChart,\n",
    "     Reference,\n",
    "     Series,\n",
    " )\n",
    "xlsxs=glob.glob(setFolder+\"*.xlsx\")\n",
    "print(xlsxs)\n",
    "#모든 하위폴더 내의 엑셀파일에서 워크시트의 이름 가져오기\n",
    "wb = openpyxl.Workbook()\n",
    "ws = wb.active\n",
    "num1=exr.cellRange(\"l4\",\"q17\")\n",
    "num2=exr.cellRange(\"b3\",\"f7\")\n",
    "num3=exr.cellRange(\"b10\",\"f14\")\n",
    "num4=exr.cellRange(\"b18\",\"e23\")\n",
    "num5=exr.cellRange(\"b33\",\"f36\")\n",
    "for j,i in enumerate(xlsxs):\n",
    "    load_wb = openpyxl.load_workbook(i, data_only=True) # data_only=True 를 선택할 경우 수식이 아닌 값을 가져옴\n",
    "    ws.append([i]) #문서 내의 시트 이름 보기\n",
    "    load_ws = load_wb[load_wb.sheetnames[2]] #'세 번째에 위치한 시트 지정\n",
    "    exr.appExcelList(num2,ws,load_ws)\n",
    "    exr.appExcelList(num3,ws,load_ws)\n",
    "    exr.appExcelList(num4,ws,load_ws)\n",
    "    load_ws = load_wb[load_wb.sheetnames[1]] #'두 번째에 위치한 시트 지정\n",
    "    exr.appExcelList(num1,ws,load_ws)\n",
    "    chart = RadarChart()\n",
    "    chart.type = \"standard\" #\"marker\"#\"standard\" #line\n",
    "    labels = Reference(ws, min_col=1, min_row=len(ws['A'])-10, max_row=len(ws['A'])-5)\n",
    "    data = Reference(ws, min_col=3, max_col=3, min_row=len(ws['A'])-10, max_row=len(ws['A'])-5)\n",
    "    chart.add_data(data, titles_from_data=False)\n",
    "    chart.set_categories(labels)\n",
    "    chart.style = 2\n",
    "    chart.legend = None\n",
    "    ws.add_chart(chart, exr.numToExNum(7,len(ws['A'])-11))\n",
    "    chart2 = RadarChart()\n",
    "    chart2.type = \"standard\" #\"marker\"#\"standard\" #line\n",
    "    labels = Reference(ws, min_col=1, min_row=len(ws['A'])-10, max_row=len(ws['A'])-5)\n",
    "    data = Reference(ws, min_col=5, max_col=5, min_row=len(ws['A'])-10, max_row=len(ws['A'])-5)\n",
    "    chart2.add_data(data, titles_from_data=False)\n",
    "    chart2.set_categories(labels)\n",
    "    chart2.style = 2\n",
    "    chart2.legend = None\n",
    "    ws.add_chart(chart2, exr.numToExNum(15,len(ws['A'])-11))\n",
    "    load_ws = load_wb[load_wb.sheetnames[2]] \n",
    "    exr.appExcelList(num5,ws,load_ws)\n",
    "wb.save(\"test8.xlsx\")   "
   ]
  },
  {
   "cell_type": "code",
   "execution_count": null,
   "metadata": {},
   "outputs": [],
   "source": []
  }
 ],
 "metadata": {
  "kernelspec": {
   "display_name": "Python 3",
   "language": "python",
   "name": "python3"
  },
  "language_info": {
   "codemirror_mode": {
    "name": "ipython",
    "version": 3
   },
   "file_extension": ".py",
   "mimetype": "text/x-python",
   "name": "python",
   "nbconvert_exporter": "python",
   "pygments_lexer": "ipython3",
   "version": "3.7.6"
  }
 },
 "nbformat": 4,
 "nbformat_minor": 4
}
