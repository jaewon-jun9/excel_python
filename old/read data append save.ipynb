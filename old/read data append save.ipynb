{
 "cells": [
  {
   "cell_type": "code",
   "execution_count": 69,
   "metadata": {},
   "outputs": [
    {
     "name": "stdout",
     "output_type": "stream",
     "text": [
      "['C:/Users/won-pc30/Desktop/VE\\\\제안-01상하수01 유량분배 0901.xlsx', 'C:/Users/won-pc30/Desktop/VE\\\\제안-02상하수02 생물반응조 유효수심 0901.xlsx', 'C:/Users/won-pc30/Desktop/VE\\\\제안-03상하수03 침전지 0919 (민감도 수정).xlsx', 'C:/Users/won-pc30/Desktop/VE\\\\제안-04상하수04 찌꺼기 반송라인 0901.xlsx', 'C:/Users/won-pc30/Desktop/VE\\\\제안-05상하수05 총인처리시설 0901.xlsx', 'C:/Users/won-pc30/Desktop/VE\\\\제안-06토목01 맨홀뚜껑 0902.xlsx', 'C:/Users/won-pc30/Desktop/VE\\\\제안-07토목02 기능성 시멘트 적용 0902.xlsx', 'C:/Users/won-pc30/Desktop/VE\\\\제안-08토목03 부력방지용 앵커 0904.xlsx', 'C:/Users/won-pc30/Desktop/VE\\\\제안-09토목04 굴착공법 및 가시설계획 0917.xlsx', 'C:/Users/won-pc30/Desktop/VE\\\\제안-10토목05 외기노출부 방수공사 0902.xlsx', 'C:/Users/won-pc30/Desktop/VE\\\\제안-11토목06 운영실 휴게가든 0904.xlsx', 'C:/Users/won-pc30/Desktop/VE\\\\제안-12토목07 엘리베이터, 방풍실 계획 0902.xlsx', 'C:/Users/won-pc30/Desktop/VE\\\\제안-13기계01 스크린 0907.xlsx', 'C:/Users/won-pc30/Desktop/VE\\\\제안-14기계02 유량조정조 이중수문 0907.xlsx', 'C:/Users/won-pc30/Desktop/VE\\\\제안-15기계03 유입펌프 구성 0907.xlsx', 'C:/Users/won-pc30/Desktop/VE\\\\제안-16기계04 송풍기실 위치 0915.xlsx', 'C:/Users/won-pc30/Desktop/VE\\\\제안-17기계05 호기조 산기장치 0915.xlsx', 'C:/Users/won-pc30/Desktop/VE\\\\제안-18기계06 분리막 미세협착물 세척 및 이송 0902.xlsx', 'C:/Users/won-pc30/Desktop/VE\\\\제안-19기계07 처리수 이송펌프 0907.xlsx', 'C:/Users/won-pc30/Desktop/VE\\\\제안-20기계08 농축기 0907.xlsx', 'C:/Users/won-pc30/Desktop/VE\\\\제안-21기계09 탈수 0902.xlsx', 'C:/Users/won-pc30/Desktop/VE\\\\제안-22기계10 탈취기 0902.xlsx', 'C:/Users/won-pc30/Desktop/VE\\\\제안-23기계11 탈취기실 위치 0902.xlsx', 'C:/Users/won-pc30/Desktop/VE\\\\제안-24기계12 재이용계획 0907.xlsx', 'C:/Users/won-pc30/Desktop/VE\\\\제안-25기계13 방류펌프 용량 0907.xlsx', 'C:/Users/won-pc30/Desktop/VE\\\\제안-26기계14 급기팬룸 설치 0902.xlsx', 'C:/Users/won-pc30/Desktop/VE\\\\제안-27기계15 별도 풍도설치 0902.xlsx', 'C:/Users/won-pc30/Desktop/VE\\\\제안-28기계16 운영실 전열교환기 설치 0903.xlsx', 'C:/Users/won-pc30/Desktop/VE\\\\제안-29전기01 VCB반 설치 0902.xlsx', 'C:/Users/won-pc30/Desktop/VE\\\\제안-30전기02 케이블 0902.xlsx', 'C:/Users/won-pc30/Desktop/VE\\\\제안-31전기03 케이블 트레이 0904.xlsx', 'C:/Users/won-pc30/Desktop/VE\\\\제안-32전기04 역률 개선 0904.xlsx', 'C:/Users/won-pc30/Desktop/VE\\\\제안-33전기05 모터보호 계전기 0904.xlsx', 'C:/Users/won-pc30/Desktop/VE\\\\제안-34전기06 시설물 관리시스템 0902.xlsx']\n"
     ]
    }
   ],
   "source": [
    "#복수의 파일에서 같은 위치의 워크시트에서 같은 셀 주소에 있는 정보들을 보기\n",
    "setFolder='C:/Users/won-pc30/Desktop/VE/'\n",
    "# 하위폴더를 포함하여 모든 엑셀 파일을 리스트에 담기\n",
    "import openpyxl\n",
    "import glob\n",
    "import pandas as pd\n",
    "from excelrange import (excelNum,\n",
    "                      excelString,\n",
    "                      cellRange\n",
    "                      \n",
    ")\n",
    "from openpyxl.chart import (\n",
    "     RadarChart,\n",
    "     Reference,\n",
    "     Series,\n",
    " )\n",
    "from openpyxl import Workbook\n",
    "def readCell(addList):\n",
    "    import openpyxl\n",
    "    all_values=[]\n",
    "    for row in range(addList[1],addList[3]+1): #row 단위로 읽기\n",
    "        row_value=[] #row 마다 셀의 값을 저장\n",
    "        for cell in range(addList[0],addList[2]+1): #row 마다 cell 단위로 데이터 읽기\n",
    "            row_value.append(load_ws.cell(row,cell).value) #row_value에 cell의 내용을 넣어주어 row를 완성\n",
    "        all_values.append(row_value) #row를 전체 리스트에 추가    \n",
    "    return all_values\n",
    "\n",
    "targetPattern1 = setFolder+\"*.xlsx\"\n",
    "xlsxs=glob.glob(targetPattern1)\n",
    "print(xlsxs)\n",
    "#모든 하위폴더 내의 엑셀파일에서 워크시트의 이름 가져오기\n",
    "allData=[]\n",
    "num1=cellRange(\"l4\",\"q17\")\n",
    "num2=cellRange(\"b3\",\"f7\")\n",
    "num3=cellRange(\"b10\",\"f14\")\n",
    "num4=cellRange(\"b18\",\"e23\")\n",
    "num5=cellRange(\"b33\",\"f36\")\n",
    "for j,i in enumerate(xlsxs[0:2]):\n",
    "    load_wb = openpyxl.load_workbook(i, data_only=True) # data_only=True 를 선택할 경우 수식이 아닌 값을 가져옴\n",
    "    allData.append([i]) #문서 내의 시트 이름 보기\n",
    "    load_ws = load_wb[load_wb.sheetnames[2]] #'세 번째에 위치한 시트 지정\n",
    "    allData=allData+readCell(num2)\n",
    "    allData=allData+readCell(num3)\n",
    "    allData=allData+readCell(num4)\n",
    "    load_ws = load_wb[load_wb.sheetnames[1]] #'두 번째에 위치한 시트 지정\n",
    "    allData=allData+readCell(num1)\n",
    "    load_ws = load_wb[load_wb.sheetnames[2]] #'세 번째에 위치한 시트 지정\n",
    "    allData=allData+readCell(num5)\n",
    "   "
   ]
  },
  {
   "cell_type": "code",
   "execution_count": 64,
   "metadata": {},
   "outputs": [
    {
     "data": {
      "text/plain": [
       "[['C:/Users/won-pc30/Desktop/VE\\\\제안-01상하수01 유량분배 0901.xlsx'],\n",
       " ['1. 초기투자비', None, '원안', '금회제안', '절감액'],\n",
       " [None, '직접공사비', 3418, 3700, -282],\n",
       " [None, '관급자재비', 0, 0, 0],\n",
       " [None, '제잡비', 1572.3, 1702, -129.70000000000005],\n",
       " [None, '초기투자비', 4990.3, 5402, -411.6999999999998],\n",
       " ['2. 생애주기비', None, '원안', '금회제안', '절감액'],\n",
       " [None, '초기투자비', 4990.3, 5402, -411.6999999999998],\n",
       " [None, '유지관리비', 2147.9, 1566.2, 581.7],\n",
       " [None, '잔존가치비', 0, 0, 0],\n",
       " [None, '생애주기비', 7138.200000000001, 6968.2, 170.0000000000009],\n",
       " ['3. 민감도', None, '원안', '금회제안'],\n",
       " [None, 0.024999999999999998, 78.59032548109569, 74.93784149663226],\n",
       " [None, 0.034999999999999996, 74.6266065181101, 72.04762975278861],\n",
       " [None, 0.045, 71.3823612818168, 69.6820342679914],\n",
       " [None, 0.05499999999999999, 68.70634498004608, 67.7307723812836],\n",
       " [None, 0.06499999999999999, 66.48215607982911, 66.1089679748754],\n",
       " ['평가항목', '가중치', '원안', None, '금회제안', None],\n",
       " [None, None, '합류식, 분리식 하수혼합', None, '합류식, 분리식 하수분리', None],\n",
       " [None, None, '등급', '점수', '등급', '점수'],\n",
       " ['적용성', 14, 9, 126, 9, 126],\n",
       " ['에너지절감', 16, 7, 112, 9, 144],\n",
       " ['시공성', 14, 9, 126, 9, 126],\n",
       " ['효율성', 22, 7, 154, 9, 198],\n",
       " ['안정성', 19, 7, 133, 10, 190],\n",
       " ['유지관리성', 15, 9, 135, 9, 135],\n",
       " ['총 가중값', None, 786, None, 919, None],\n",
       " ['LCC', '백만원', 7138.200000000001, None, 6968.2, None],\n",
       " ['성능점수 (P)', None, 78.6, None, 91.9, None],\n",
       " ['상대 LCC (C)', None, 1.024, None, 1, None],\n",
       " ['가치평가 (V=P/C)', None, 76.8, None, 91.9, None],\n",
       " ['4. 가치분석', None, '원안', '금회제안', '증감율'],\n",
       " [None, '성능', 78.6, 91.9, 0.16921],\n",
       " [None, 'LCC', 1.024, 1, -0.02343],\n",
       " [None, '가치', 76.8, 91.9, 0.19661],\n",
       " ['C:/Users/won-pc30/Desktop/VE\\\\제안-02상하수02 생물반응조 유효수심 0901.xlsx'],\n",
       " ['1. 초기투자비', None, '원안', '금회제안', '절감액'],\n",
       " [None, '직접공사비', 8315, 7978, 337],\n",
       " [None, '관급자재비', 0, 0, 0],\n",
       " [None, '제잡비', 3824.9, 3669.9, 155],\n",
       " [None, '초기투자비', 12139.9, 11647.9, 492],\n",
       " ['2. 생애주기비', None, '원안', '금회제안', '절감액'],\n",
       " [None, '초기투자비', 12139.9, 11647.9, 492],\n",
       " [None, '유지관리비', 181.1, 173.7, 7.400000000000006],\n",
       " [None, '잔존가치비', 0, 0, 0],\n",
       " [None, '생애주기비', 12321, 11821.6, 499.39999999999964],\n",
       " ['3. 민감도', None, '원안', '금회제안'],\n",
       " [None, 0.024999999999999998, 123.81748099033301, 118.79946596160593],\n",
       " [None, 0.034999999999999996, 123.48332021367503, 118.47884789140483],\n",
       " [None, 0.045, 123.20981456961894, 118.21642675190606],\n",
       " [None, 0.05499999999999999, 122.9842133869671, 117.99996862495192],\n",
       " [None, 0.06499999999999999, 122.79670345064942, 117.82005800071002],\n",
       " ['평가항목', '가중치', '원안', None, '금회제안', None],\n",
       " [None, None, 'H=6.0m', None, 'H=8.0m', None],\n",
       " [None, None, '등급', '점수', '등급', '점수'],\n",
       " ['적용성', 14, 9, 126, 9, 126],\n",
       " ['에너지절감', 16, 9, 144, 9, 144],\n",
       " ['시공성', 14, 7, 98, 9, 126],\n",
       " ['효율성', 22, 7, 154, 9, 198],\n",
       " ['안정성', 19, 9, 171, 9, 171],\n",
       " ['유지관리성', 15, 8, 120, 9, 135],\n",
       " ['총 가중값', None, 813, None, 900, None],\n",
       " ['LCC', '백만원', 12321, None, 11821.6, None],\n",
       " ['성능점수 (P)', None, 81.3, None, 90, None],\n",
       " ['상대 LCC (C)', None, 1.042, None, 1, None],\n",
       " ['가치평가 (V=P/C)', None, 78, None, 90, None],\n",
       " ['4. 가치분석', None, '원안', '금회제안', '증감율'],\n",
       " [None, '성능', 81.3, 90, 0.10701],\n",
       " [None, 'LCC', 1.042, 1, -0.0403],\n",
       " [None, '가치', 78, 90, 0.15384]]"
      ]
     },
     "execution_count": 64,
     "metadata": {},
     "output_type": "execute_result"
    }
   ],
   "source": [
    "allData"
   ]
  },
  {
   "cell_type": "code",
   "execution_count": null,
   "metadata": {},
   "outputs": [],
   "source": []
  },
  {
   "cell_type": "code",
   "execution_count": 70,
   "metadata": {},
   "outputs": [],
   "source": [
    "wb = Workbook()\n",
    "ws = wb.active\n",
    "for row in allData:\n",
    "    ws.append(row)\n",
    "wb.save(\"test3.xlsx\")"
   ]
  },
  {
   "cell_type": "code",
   "execution_count": 30,
   "metadata": {},
   "outputs": [],
   "source": [
    "wb = openpyxl.Workbook() #워크북 생성\n",
    "sheet1 = wb.active #활성시트를 만들어서 sheet1에 저장\n",
    "sheet1.title = 'Sheet1' #시트의 제목 지정\n",
    "# all_values 의 내용을 for문을 통해 기입\n",
    "for row_num,row in enumerate(allData): #row 번호와 함께 row를 순차적으로 가져옴\n",
    "    for col_num,cell_val in enumerate(row): #row 마다 cell 번호와 cell 내용을 함께 가져옴\n",
    "        sheet1.cell(row=row_num+1, column=col_num+1).value = cell_val #행번호와 열번호를 지정하여 값을 기록, 엑셀은 1부터 시작\n",
    "wb.save(filename=\"./test2.xlsx\") #결과물 저장"
   ]
  },
  {
   "cell_type": "code",
   "execution_count": null,
   "metadata": {},
   "outputs": [],
   "source": []
  }
 ],
 "metadata": {
  "kernelspec": {
   "display_name": "Python 3",
   "language": "python",
   "name": "python3"
  },
  "language_info": {
   "codemirror_mode": {
    "name": "ipython",
    "version": 3
   },
   "file_extension": ".py",
   "mimetype": "text/x-python",
   "name": "python",
   "nbconvert_exporter": "python",
   "pygments_lexer": "ipython3",
   "version": "3.8.3"
  }
 },
 "nbformat": 4,
 "nbformat_minor": 4
}
